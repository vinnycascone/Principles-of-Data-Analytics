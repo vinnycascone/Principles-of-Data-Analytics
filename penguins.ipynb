{
 "cells": [
  {
   "cell_type": "markdown",
   "metadata": {},
   "source": [
    "# Palmer Penguins\n",
    "\n",
    "***\n",
    "[Penguins](https://allisonhorst.github.io/palmerpenguins/reference/figures/lter_penguins.png) \n",
    "\n",
    "This notebook contains my analysis of the famous palmer penguins dataset.\n",
    "\n",
    "The dataset is available [ on GitHub](https://allisonhorst.github.io/palmerpenguins/)."
   ]
  },
  {
   "cell_type": "markdown",
   "metadata": {},
   "source": [
    "## Imports\n",
    "\n",
    "***\n",
    "\n",
    "We use pandas for the DataFrame data structure.\n",
    "\n",
    "It allows us to investigate CSV files, amongst other features."
   ]
  },
  {
   "cell_type": "code",
   "execution_count": 2,
   "metadata": {},
   "outputs": [],
   "source": [
    "# Data frames\n",
    "import pandas as pd"
   ]
  },
  {
   "cell_type": "markdown",
   "metadata": {},
   "source": [
    "## Load Data\n",
    "\n",
    "Load the palmer penguins data set from a URL"
   ]
  },
  {
   "cell_type": "code",
   "execution_count": 3,
   "metadata": {},
   "outputs": [],
   "source": [
    "# Loads the penguin dataser\n",
    "df= pd.read_csv('https://raw.githubusercontent.com/mwaskom/seaborn-data/master/penguins.csv')"
   ]
  },
  {
   "cell_type": "markdown",
   "metadata": {},
   "source": [
    "The data is now loaded and we can inspect it"
   ]
  },
  {
   "cell_type": "code",
   "execution_count": 4,
   "metadata": {},
   "outputs": [
    {
     "data": {
      "text/html": [
       "<div>\n",
       "<style scoped>\n",
       "    .dataframe tbody tr th:only-of-type {\n",
       "        vertical-align: middle;\n",
       "    }\n",
       "\n",
       "    .dataframe tbody tr th {\n",
       "        vertical-align: top;\n",
       "    }\n",
       "\n",
       "    .dataframe thead th {\n",
       "        text-align: right;\n",
       "    }\n",
       "</style>\n",
       "<table border=\"1\" class=\"dataframe\">\n",
       "  <thead>\n",
       "    <tr style=\"text-align: right;\">\n",
       "      <th></th>\n",
       "      <th>species</th>\n",
       "      <th>island</th>\n",
       "      <th>bill_length_mm</th>\n",
       "      <th>bill_depth_mm</th>\n",
       "      <th>flipper_length_mm</th>\n",
       "      <th>body_mass_g</th>\n",
       "      <th>sex</th>\n",
       "    </tr>\n",
       "  </thead>\n",
       "  <tbody>\n",
       "    <tr>\n",
       "      <th>0</th>\n",
       "      <td>Adelie</td>\n",
       "      <td>Torgersen</td>\n",
       "      <td>39.1</td>\n",
       "      <td>18.7</td>\n",
       "      <td>181.0</td>\n",
       "      <td>3750.0</td>\n",
       "      <td>MALE</td>\n",
       "    </tr>\n",
       "    <tr>\n",
       "      <th>1</th>\n",
       "      <td>Adelie</td>\n",
       "      <td>Torgersen</td>\n",
       "      <td>39.5</td>\n",
       "      <td>17.4</td>\n",
       "      <td>186.0</td>\n",
       "      <td>3800.0</td>\n",
       "      <td>FEMALE</td>\n",
       "    </tr>\n",
       "    <tr>\n",
       "      <th>2</th>\n",
       "      <td>Adelie</td>\n",
       "      <td>Torgersen</td>\n",
       "      <td>40.3</td>\n",
       "      <td>18.0</td>\n",
       "      <td>195.0</td>\n",
       "      <td>3250.0</td>\n",
       "      <td>FEMALE</td>\n",
       "    </tr>\n",
       "    <tr>\n",
       "      <th>3</th>\n",
       "      <td>Adelie</td>\n",
       "      <td>Torgersen</td>\n",
       "      <td>NaN</td>\n",
       "      <td>NaN</td>\n",
       "      <td>NaN</td>\n",
       "      <td>NaN</td>\n",
       "      <td>NaN</td>\n",
       "    </tr>\n",
       "    <tr>\n",
       "      <th>4</th>\n",
       "      <td>Adelie</td>\n",
       "      <td>Torgersen</td>\n",
       "      <td>36.7</td>\n",
       "      <td>19.3</td>\n",
       "      <td>193.0</td>\n",
       "      <td>3450.0</td>\n",
       "      <td>FEMALE</td>\n",
       "    </tr>\n",
       "    <tr>\n",
       "      <th>...</th>\n",
       "      <td>...</td>\n",
       "      <td>...</td>\n",
       "      <td>...</td>\n",
       "      <td>...</td>\n",
       "      <td>...</td>\n",
       "      <td>...</td>\n",
       "      <td>...</td>\n",
       "    </tr>\n",
       "    <tr>\n",
       "      <th>339</th>\n",
       "      <td>Gentoo</td>\n",
       "      <td>Biscoe</td>\n",
       "      <td>NaN</td>\n",
       "      <td>NaN</td>\n",
       "      <td>NaN</td>\n",
       "      <td>NaN</td>\n",
       "      <td>NaN</td>\n",
       "    </tr>\n",
       "    <tr>\n",
       "      <th>340</th>\n",
       "      <td>Gentoo</td>\n",
       "      <td>Biscoe</td>\n",
       "      <td>46.8</td>\n",
       "      <td>14.3</td>\n",
       "      <td>215.0</td>\n",
       "      <td>4850.0</td>\n",
       "      <td>FEMALE</td>\n",
       "    </tr>\n",
       "    <tr>\n",
       "      <th>341</th>\n",
       "      <td>Gentoo</td>\n",
       "      <td>Biscoe</td>\n",
       "      <td>50.4</td>\n",
       "      <td>15.7</td>\n",
       "      <td>222.0</td>\n",
       "      <td>5750.0</td>\n",
       "      <td>MALE</td>\n",
       "    </tr>\n",
       "    <tr>\n",
       "      <th>342</th>\n",
       "      <td>Gentoo</td>\n",
       "      <td>Biscoe</td>\n",
       "      <td>45.2</td>\n",
       "      <td>14.8</td>\n",
       "      <td>212.0</td>\n",
       "      <td>5200.0</td>\n",
       "      <td>FEMALE</td>\n",
       "    </tr>\n",
       "    <tr>\n",
       "      <th>343</th>\n",
       "      <td>Gentoo</td>\n",
       "      <td>Biscoe</td>\n",
       "      <td>49.9</td>\n",
       "      <td>16.1</td>\n",
       "      <td>213.0</td>\n",
       "      <td>5400.0</td>\n",
       "      <td>MALE</td>\n",
       "    </tr>\n",
       "  </tbody>\n",
       "</table>\n",
       "<p>344 rows × 7 columns</p>\n",
       "</div>"
      ],
      "text/plain": [
       "    species     island  bill_length_mm  bill_depth_mm  flipper_length_mm  \\\n",
       "0    Adelie  Torgersen            39.1           18.7              181.0   \n",
       "1    Adelie  Torgersen            39.5           17.4              186.0   \n",
       "2    Adelie  Torgersen            40.3           18.0              195.0   \n",
       "3    Adelie  Torgersen             NaN            NaN                NaN   \n",
       "4    Adelie  Torgersen            36.7           19.3              193.0   \n",
       "..      ...        ...             ...            ...                ...   \n",
       "339  Gentoo     Biscoe             NaN            NaN                NaN   \n",
       "340  Gentoo     Biscoe            46.8           14.3              215.0   \n",
       "341  Gentoo     Biscoe            50.4           15.7              222.0   \n",
       "342  Gentoo     Biscoe            45.2           14.8              212.0   \n",
       "343  Gentoo     Biscoe            49.9           16.1              213.0   \n",
       "\n",
       "     body_mass_g     sex  \n",
       "0         3750.0    MALE  \n",
       "1         3800.0  FEMALE  \n",
       "2         3250.0  FEMALE  \n",
       "3            NaN     NaN  \n",
       "4         3450.0  FEMALE  \n",
       "..           ...     ...  \n",
       "339          NaN     NaN  \n",
       "340       4850.0  FEMALE  \n",
       "341       5750.0    MALE  \n",
       "342       5200.0  FEMALE  \n",
       "343       5400.0    MALE  \n",
       "\n",
       "[344 rows x 7 columns]"
      ]
     },
     "execution_count": 4,
     "metadata": {},
     "output_type": "execute_result"
    }
   ],
   "source": [
    "# Let's have a look\n",
    "df"
   ]
  },
  {
   "cell_type": "markdown",
   "metadata": {},
   "source": [
    "Inspecting Data"
   ]
  },
  {
   "cell_type": "code",
   "execution_count": 5,
   "metadata": {},
   "outputs": [
    {
     "data": {
      "text/plain": [
       "species                 Adelie\n",
       "island               Torgersen\n",
       "bill_length_mm            39.1\n",
       "bill_depth_mm             18.7\n",
       "flipper_length_mm        181.0\n",
       "body_mass_g             3750.0\n",
       "sex                       MALE\n",
       "Name: 0, dtype: object"
      ]
     },
     "execution_count": 5,
     "metadata": {},
     "output_type": "execute_result"
    }
   ],
   "source": [
    "# look at the first row\n",
    "df.iloc[0]"
   ]
  },
  {
   "cell_type": "code",
   "execution_count": 6,
   "metadata": {},
   "outputs": [
    {
     "data": {
      "text/plain": [
       "0        MALE\n",
       "1      FEMALE\n",
       "2      FEMALE\n",
       "3         NaN\n",
       "4      FEMALE\n",
       "        ...  \n",
       "339       NaN\n",
       "340    FEMALE\n",
       "341      MALE\n",
       "342    FEMALE\n",
       "343      MALE\n",
       "Name: sex, Length: 344, dtype: object"
      ]
     },
     "execution_count": 6,
     "metadata": {},
     "output_type": "execute_result"
    }
   ],
   "source": [
    "# Sex of penguins\n",
    "df['sex']"
   ]
  },
  {
   "cell_type": "code",
   "execution_count": 7,
   "metadata": {},
   "outputs": [
    {
     "data": {
      "text/plain": [
       "sex\n",
       "MALE      168\n",
       "FEMALE    165\n",
       "Name: count, dtype: int64"
      ]
     },
     "execution_count": 7,
     "metadata": {},
     "output_type": "execute_result"
    }
   ],
   "source": [
    "# count the number of penguins of each sex\n",
    "df['sex'].value_counts()"
   ]
  },
  {
   "cell_type": "code",
   "execution_count": 8,
   "metadata": {},
   "outputs": [
    {
     "data": {
      "text/html": [
       "<div>\n",
       "<style scoped>\n",
       "    .dataframe tbody tr th:only-of-type {\n",
       "        vertical-align: middle;\n",
       "    }\n",
       "\n",
       "    .dataframe tbody tr th {\n",
       "        vertical-align: top;\n",
       "    }\n",
       "\n",
       "    .dataframe thead th {\n",
       "        text-align: right;\n",
       "    }\n",
       "</style>\n",
       "<table border=\"1\" class=\"dataframe\">\n",
       "  <thead>\n",
       "    <tr style=\"text-align: right;\">\n",
       "      <th></th>\n",
       "      <th>bill_length_mm</th>\n",
       "      <th>bill_depth_mm</th>\n",
       "      <th>flipper_length_mm</th>\n",
       "      <th>body_mass_g</th>\n",
       "    </tr>\n",
       "  </thead>\n",
       "  <tbody>\n",
       "    <tr>\n",
       "      <th>count</th>\n",
       "      <td>342.000000</td>\n",
       "      <td>342.000000</td>\n",
       "      <td>342.000000</td>\n",
       "      <td>342.000000</td>\n",
       "    </tr>\n",
       "    <tr>\n",
       "      <th>mean</th>\n",
       "      <td>43.921930</td>\n",
       "      <td>17.151170</td>\n",
       "      <td>200.915205</td>\n",
       "      <td>4201.754386</td>\n",
       "    </tr>\n",
       "    <tr>\n",
       "      <th>std</th>\n",
       "      <td>5.459584</td>\n",
       "      <td>1.974793</td>\n",
       "      <td>14.061714</td>\n",
       "      <td>801.954536</td>\n",
       "    </tr>\n",
       "    <tr>\n",
       "      <th>min</th>\n",
       "      <td>32.100000</td>\n",
       "      <td>13.100000</td>\n",
       "      <td>172.000000</td>\n",
       "      <td>2700.000000</td>\n",
       "    </tr>\n",
       "    <tr>\n",
       "      <th>25%</th>\n",
       "      <td>39.225000</td>\n",
       "      <td>15.600000</td>\n",
       "      <td>190.000000</td>\n",
       "      <td>3550.000000</td>\n",
       "    </tr>\n",
       "    <tr>\n",
       "      <th>50%</th>\n",
       "      <td>44.450000</td>\n",
       "      <td>17.300000</td>\n",
       "      <td>197.000000</td>\n",
       "      <td>4050.000000</td>\n",
       "    </tr>\n",
       "    <tr>\n",
       "      <th>75%</th>\n",
       "      <td>48.500000</td>\n",
       "      <td>18.700000</td>\n",
       "      <td>213.000000</td>\n",
       "      <td>4750.000000</td>\n",
       "    </tr>\n",
       "    <tr>\n",
       "      <th>max</th>\n",
       "      <td>59.600000</td>\n",
       "      <td>21.500000</td>\n",
       "      <td>231.000000</td>\n",
       "      <td>6300.000000</td>\n",
       "    </tr>\n",
       "  </tbody>\n",
       "</table>\n",
       "</div>"
      ],
      "text/plain": [
       "       bill_length_mm  bill_depth_mm  flipper_length_mm  body_mass_g\n",
       "count      342.000000     342.000000         342.000000   342.000000\n",
       "mean        43.921930      17.151170         200.915205  4201.754386\n",
       "std          5.459584       1.974793          14.061714   801.954536\n",
       "min         32.100000      13.100000         172.000000  2700.000000\n",
       "25%         39.225000      15.600000         190.000000  3550.000000\n",
       "50%         44.450000      17.300000         197.000000  4050.000000\n",
       "75%         48.500000      18.700000         213.000000  4750.000000\n",
       "max         59.600000      21.500000         231.000000  6300.000000"
      ]
     },
     "execution_count": 8,
     "metadata": {},
     "output_type": "execute_result"
    }
   ],
   "source": [
    "#describe the data set\n",
    "df.describe()"
   ]
  },
  {
   "cell_type": "markdown",
   "metadata": {},
   "source": [
    "## Tables\n",
    "\n",
    "***\n",
    "\n",
    "| Species  |Bill Length (mm)|Body Mass (g)|\n",
    "|--------- |----------------:|-------------:|\n",
    "|Adelie    |            38.8|         3701|\n",
    "|Chinstrap |            48.8|         3733|\n",
    "|Gentoo    |            47.5|         5076|\n"
   ]
  },
  {
   "cell_type": "markdown",
   "metadata": {},
   "source": [
    "# Presentation of the dataset\n",
    "\n",
    "The Palmer Penguins dataset is a popular dataset used for data analysis and machine learning tasks. It contains measurements and other attributes of penguins collected from three species: Adelie, Chinstrap, and Gentoo, on three islands in the Palmer Archipelago, Antarctica: Dream, Torgersen and Biscoe.\n",
    "\n",
    "Here is the descriptive statistics explained in the data set:\n",
    "\n",
    "\n",
    "**count:** This tells you how many data points you have for each measurement. In this case, you have 342 data points for all four measurements.\n",
    "\n",
    "**mean:** This is the average value for each measurement. For example, the average bill length is approximately 43.92 mm, the average bill depth is approximately 17.15 mm, the average flipper length is approximately 200.92 mm, and the average body mass is approximately 4201.75 g.\n",
    "\n",
    "**std:** This is the standard deviation, which measures the amount of variation or dispersion in the data set. It tells you how spread out the values are from the mean. For instance, the standard deviation for bill length is approximately 5.46 mm, for bill depth is approximately 1.97 mm, for flipper length is approximately 14.06 mm, and for body mass is approximately 801.95 g.\n",
    "\n",
    "**min:** This is the minimum value observed in the data set. For example, the minimum bill length observed is 32.1 mm, the minimum bill depth observed is 13.1 mm, the minimum flipper length observed is 172 mm, and the minimum body mass observed is 2700 g.\n",
    "\n",
    "**25% (Q1):** This is the first quartile, which represents the value below which 25% of the data fall. For example, 25% of the penguins have a bill length of 39.225 mm, a bill depth of 15.6 mm, a flipper length of 190 mm, and a body mass of 3550 g.\n",
    "\n",
    "**50% (Q2 or median):** This is the median value, which represents the middle value of the data set when it is ordered from smallest to largest. For example, the median bill length is 44.45 mm, the median bill depth is 17.3 mm, the median flipper length is 197 mm, and the median body mass is 4050 g.\n",
    "\n",
    "**75% (Q3):** This is the third quartile, which represents the value below which 75% of the data fall. For example, 75% of the penguins have a bill length of 48.5 mm, a bill depth of 18.7 mm, a flipper length of 213 mm, and a body mass of 4750 g.\n",
    "\n",
    "**max:** This is the maximum value observed in the data set. For example, the maximum bill length observed is 59.6 mm, the maximum bill depth observed is 21.5 mm, the maximum flipper length observed is 231 mm, and the maximum body mass observed is 6300 g.\n",
    "These statistics provide a comprehensive overview of the distribution and central tendencies of the data for each measurement."
   ]
  },
  {
   "cell_type": "markdown",
   "metadata": {},
   "source": [
    "I'm going now to get variable type of our data set and explaining it:"
   ]
  },
  {
   "cell_type": "code",
   "execution_count": 9,
   "metadata": {},
   "outputs": [
    {
     "name": "stdout",
     "output_type": "stream",
     "text": [
      "<class 'pandas.core.frame.DataFrame'>\n",
      "RangeIndex: 344 entries, 0 to 343\n",
      "Data columns (total 7 columns):\n",
      " #   Column             Non-Null Count  Dtype  \n",
      "---  ------             --------------  -----  \n",
      " 0   species            344 non-null    object \n",
      " 1   island             344 non-null    object \n",
      " 2   bill_length_mm     342 non-null    float64\n",
      " 3   bill_depth_mm      342 non-null    float64\n",
      " 4   flipper_length_mm  342 non-null    float64\n",
      " 5   body_mass_g        342 non-null    float64\n",
      " 6   sex                333 non-null    object \n",
      "dtypes: float64(4), object(3)\n",
      "memory usage: 18.9+ KB\n"
     ]
    }
   ],
   "source": [
    "df.info()"
   ]
  },
  {
   "cell_type": "markdown",
   "metadata": {},
   "source": [
    "#### Overview of the variables:\n",
    "\n",
    "**species:** The species of penguin. It can be one of three values: \"Adelie\", \"Chinstrap\", or \"Gentoo\".  \n",
    "**island:** The island where the penguin was observed. It can be one of three values: \"Biscoe\", \"Dream\", or \"Torgersen\".  \n",
    "**bill_length_mm:** The length of the penguin's bill in millimeters.  \n",
    "**bill_depth_mm:** The depth of the penguin's bill in millimeters.  \n",
    "**flipper_length_mm:** The length of the penguin's flipper in millimeters.  \n",
    "**body_mass_g:** The body mass of the penguin in grams.  \n",
    "**sex:** The gender of the penguin. It can be one of three values: \"male\", \"female\", or \"NA\" (indicating unknown).  \n",
    "year: The year in which the data was collected.  \n",
    "\n",
    "\n",
    "### Notes:\n",
    "The dataset may contain missing values (indicated by \"NA\" or NaN).\n",
    "The measurements (bill length, bill depth, flipper length, body mass) are numeric variables representing physical characteristics of the penguins.\n",
    "The categorical variables (species, island, sex) provide information about the species, habitat, and gender of the penguins.\n",
    "The dataset is often used for classification tasks (e.g., predicting the species of a penguin based on its physical characteristics) and exploratory data analysis.\n",
    "\n"
   ]
  },
  {
   "cell_type": "markdown",
   "metadata": {},
   "source": [
    "### Modeling the variables\n",
    "\n",
    "To model the variables in the Palmer Penguins dataset in Python, I have considered the following:\n",
    "\n",
    "- Categorical Variables:  \n",
    "  - Species: This variable represents different penguin species (Adelie, Chinstrap, or Gentoo). It should be treated as a categorical variable because each species represents a distinct category with no inherent ordering.  \n",
    "  - Island: The island where the penguin was observed (Dream, Torgersen, or Biscoe). Like species, this variable should also be treated as categorical since the islands represent distinct categories without any natural ordering.  \n",
    "  - Sex: The sex of the penguin (male, female, or NA if unknown). This is also a categorical variable since each sex represents a distinct category.\n",
    "- Numeric Variables:   \n",
    "  - Bill Length (bill_length_mm): This represents the length of the penguin's bill in millimeters. It is a numeric variable that can be used for modeling, such as regression analysis.  \n",
    "  - Bill Depth (bill_depth_mm): Similar to bill length, this represents the depth of the penguin's bill in millimeters and can also be treated as a numeric variable.  \n",
    "  - Flipper Length (flipper_length_mm): The length of the penguin's flipper in millimeters. This is another numeric variable suitable for modeling.\n",
    "  - Body Mass (body_mass_g): The body mass of the penguin in grams. This numeric variable provides information about the weight of the penguins and can be useful for modeling purposes.  \n",
    "- Target Variable (Optional):  \n",
    "  - Depending on your analysis goals, you may choose to define a target variable for predictive modeling tasks. For example, if you want to predict the species of a penguin based on its physical characteristics, then species can be considered as the target variable for classification tasks.  \n",
    "\n",
    "\n",
    "Treating categorical variables as categorical types ensures that Python understands them as distinct categories rather than treating them as numeric values with some order or significance.  I'm moving a string variable to a categorical one so that Phyton can analyze it.\n",
    "Numeric variables for modeling allow to perform mathematical operations and statistical analyses on these variables. This enables tasks like correlation analysis, and visualization.  \n",
    "The choice of variables was made on the objective of the analysis. In my example I have done so to understand the relationship between penguin physical characteristics."
   ]
  },
  {
   "cell_type": "code",
   "execution_count": 10,
   "metadata": {},
   "outputs": [],
   "source": [
    "# changing the variables to the right format analyzed\n",
    "\n",
    "df['species'] = df['species'].astype('category')\n",
    "df['island'] = df['island'].astype('category')\n",
    "df['sex'] = df['sex'].astype('category')"
   ]
  },
  {
   "cell_type": "code",
   "execution_count": 11,
   "metadata": {},
   "outputs": [
    {
     "name": "stdout",
     "output_type": "stream",
     "text": [
      "<class 'pandas.core.frame.DataFrame'>\n",
      "RangeIndex: 344 entries, 0 to 343\n",
      "Data columns (total 7 columns):\n",
      " #   Column             Non-Null Count  Dtype   \n",
      "---  ------             --------------  -----   \n",
      " 0   species            344 non-null    category\n",
      " 1   island             344 non-null    category\n",
      " 2   bill_length_mm     342 non-null    float64 \n",
      " 3   bill_depth_mm      342 non-null    float64 \n",
      " 4   flipper_length_mm  342 non-null    float64 \n",
      " 5   body_mass_g        342 non-null    float64 \n",
      " 6   sex                333 non-null    category\n",
      "dtypes: category(3), float64(4)\n",
      "memory usage: 12.3 KB\n"
     ]
    }
   ],
   "source": [
    "# to ensure that the variable type changed\n",
    "\n",
    "df.info()"
   ]
  },
  {
   "cell_type": "markdown",
   "metadata": {},
   "source": [
    "### Bar Chart of the number of penguins by species"
   ]
  },
  {
   "cell_type": "code",
   "execution_count": 12,
   "metadata": {},
   "outputs": [],
   "source": [
    "import numpy as np\n",
    "import matplotlib.pyplot as plt\n",
    "import seaborn as sns"
   ]
  },
  {
   "cell_type": "code",
   "execution_count": 13,
   "metadata": {},
   "outputs": [
    {
     "data": {
      "image/png": "[encoded data removed]",
      "text/plain": [
       "<Figure size 800x600 with 1 Axes>"
      ]
     },
     "metadata": {},
     "output_type": "display_data"
    }
   ],
   "source": [
    "plt.figure(figsize=(8, 6))\n",
    "sns.countplot(x='species', data=df)\n",
    "plt.title('Number of Penguins by Species')\n",
    "plt.ylabel('Count')\n",
    "plt.xlabel('Species')\n",
    "plt.show()"
   ]
  },
  {
   "cell_type": "markdown",
   "metadata": {},
   "source": [
    "This bar chart displays the number of penguins belonging to each of the three species in the dataset, showing which species is the most or least common. It visualizes the distribution of penguins across different species. Each bar on the plot represents the count of penguins belonging to a specific species. The x-axis displays the various penguin species, while the y-axis indicates the corresponding count. So on the x-axis i have labeled the species 'Adelie', 'Chinstrap', and 'Gentoo'. The tallest bar corresponds to the species with the highest count of penguins, while shorter bars represent species with fewer individuals. From the visualization, it's visible that there are varying numbers of penguins across the different species. 'Adelie' appears to have the highest count, followed by 'Gentoo' and 'Chinstrap' species."
   ]
  },
  {
   "cell_type": "markdown",
   "metadata": {},
   "source": [
    "### Histogram of the Flipeer lenghts distribution "
   ]
  },
  {
   "cell_type": "code",
   "execution_count": 14,
   "metadata": {},
   "outputs": [
    {
     "data": {
      "image/png": "[encoded data removed]",
      "text/plain": [
       "<Figure size 800x600 with 1 Axes>"
      ]
     },
     "metadata": {},
     "output_type": "display_data"
    }
   ],
   "source": [
    "# Create a histogram of flipper lengths\n",
    "plt.figure(figsize=(8, 6))\n",
    "sns.histplot(df['flipper_length_mm'], kde=True, bins=20)\n",
    "plt.title('Distribution of Flipper Lengths')\n",
    "plt.xlabel('Flipper Length (mm)')\n",
    "plt.ylabel('Frequency')\n",
    "plt.show()"
   ]
  },
  {
   "cell_type": "markdown",
   "metadata": {},
   "source": [
    "This histogram shows the distribution of flipper lengths measured in millimiters(mm) across all penguins in the dataset, with an additional Kernel Density Estimate (KDE) to give a smoother estimate of the distribution. The code contains bins parameter to control the level of granularity in the histogram, helping to highlight different aspects of the distribution.\n",
    "\n",
    "The x-axis represents the range of flipper lengths, divided into bins, while the y-axis indicates the frequency of occurrence within each bin.\n",
    "\n",
    "The histogram is constructed with 20 bins, providing a detailed breakdown of flipper length distribution across the dataset. Each bar in the histogram represents the frequency of flipper lengths falling within the corresponding bin.\n",
    "\n",
    "Additionally, a smooth curve overlaid on the bars represents the kernel density estimate (KDE), which offers a visual approximation of the probability density function of the data.\n",
    "\n",
    "This analysis indicates that that most penguins in the dataset have flipper lengths concentrated within a specific range, with fewer occurrences of extremely long flipper lengths.\n",
    "\n",
    "Overall, the histogram provides insight into the distribution pattern of flipper lengths within the dataset, showing the central tendency and variability of this particular attribute among the penguins."
   ]
  },
  {
   "cell_type": "markdown",
   "metadata": {},
   "source": [
    "### Boxplot of the bodymass distribution"
   ]
  },
  {
   "cell_type": "code",
   "execution_count": 15,
   "metadata": {},
   "outputs": [
    {
     "data": {
      "image/png": "[encoded data removed]",
      "text/plain": [
       "<Figure size 1000x600 with 1 Axes>"
      ]
     },
     "metadata": {},
     "output_type": "display_data"
    }
   ],
   "source": [
    "#boxplot for bodymass distribution\n",
    "plt.figure(figsize=(10, 6))\n",
    "sns.boxplot(x='species', y='body_mass_g', data=df)\n",
    "plt.title('Body Mass Distribution by Species')\n",
    "plt.show()"
   ]
  },
  {
   "cell_type": "markdown",
   "metadata": {},
   "source": [
    "I have also employed a boxplot to visualize the distribution of body mass across the three penguin species: Adelie, Chinstrap, and Gentoo. This choice of visualization enables an in-depth examination of the central tendencies, dispersion, and potential outliers within the body mass data for each species.\n",
    "\n",
    "Observations and Implications:\n",
    "The boxplot reveals distinct differences in body mass among the species, with Gentoo penguins displaying a notably higher median body mass compared to Adelie and Chinstrap penguins. This variation suggests significant biological and ecological differentiation, likely driven by factors such as diet, habitat preferences, and foraging behavior.\n",
    "\n",
    "Moreover, the presence of outliers, particularly in the Gentoo species, underscores individual variations that may warrant further investigation to understand their causes and consequences. These findings underscore the importance of considering species-specific characteristics in studies of penguin biology and conservation."
   ]
  },
  {
   "cell_type": "markdown",
   "metadata": {},
   "source": [
    "***\n",
    "\n",
    "### End"
   ]
  }
 ],
 "metadata": {
  "kernelspec": {
   "display_name": "Python 3",
   "language": "python",
   "name": "python3"
  },
  "language_info": {
   "codemirror_mode": {
    "name": "ipython",
    "version": 3
   },
   "file_extension": ".py",
   "mimetype": "text/x-python",
   "name": "python",
   "nbconvert_exporter": "python",
   "pygments_lexer": "ipython3",
   "version": "3.11.5"
  }
 },
 "nbformat": 4,
 "nbformat_minor": 2
}
